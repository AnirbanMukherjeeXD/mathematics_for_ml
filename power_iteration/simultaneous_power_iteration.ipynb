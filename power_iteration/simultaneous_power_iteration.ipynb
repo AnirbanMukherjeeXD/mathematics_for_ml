{
 "cells": [
  {
   "cell_type": "code",
   "execution_count": 1,
   "metadata": {},
   "outputs": [],
   "source": [
    "import numpy as np\n",
    "import matplotlib.pyplot as plt"
   ]
  },
  {
   "cell_type": "code",
   "execution_count": 9,
   "metadata": {},
   "outputs": [],
   "source": [
    "# Defining rayleigh\n",
    "\n",
    "def rayleigh(x, A):\n",
    "    return(np.dot(x.T,np.dot(A,x))/np.dot(x.T, x)).item()"
   ]
  },
  {
   "cell_type": "code",
   "execution_count": 27,
   "metadata": {},
   "outputs": [
    {
     "name": "stdout",
     "output_type": "stream",
     "text": [
      "A:  [[ 25  56  18]\n",
      " [ 56   0 -32]\n",
      " [ 18 -32  36]]\n",
      "\n",
      "Top 5 Eigenvalues obtained from iteration method:\n",
      " [-58.76745696  48.41062667  71.35683029]\n",
      "Top 5 Eigenvalues obtained from standard library:\n",
      " [-58.76745696  48.41062667  71.35683029]\n"
     ]
    },
    {
     "data": {
      "image/png": "[encoded data removed]",
      "text/plain": [
       "<Figure size 432x288 with 1 Axes>"
      ]
     },
     "metadata": {
      "needs_background": "light"
     },
     "output_type": "display_data"
    }
   ],
   "source": [
    "# Defining dimensions\n",
    "n = 3\n",
    "\n",
    "# Create nxn random matrix\n",
    "A = np.random.rand(n,n)\n",
    "A = np.random.randint(-10,10,n*n).reshape(3,3)\n",
    "\n",
    "# Convert A into symmetric matrix\n",
    "sym_A = A*A.T\n",
    "\n",
    "# Checking if symmetric\n",
    "(sym_A==sym_A.T).all()\n",
    "\n",
    "A = sym_A\n",
    "print(\"A: \", A)\n",
    "# Starting with a basis (identity matrix)\n",
    "V = np.identity(n)\n",
    "\n",
    "# Obtaining QR factors of V\n",
    "Q, R = np.linalg.qr(V)\n",
    "\n",
    "# Initializing list to store history, in this case eigenvalues obtained by Rayleigh quotient on Q\n",
    "hist = []\n",
    "hist2 = []\n",
    "# Number of iterations\n",
    "iterations = 200\n",
    "\n",
    "# Running loop\n",
    "for i in range(iterations):\n",
    "    \n",
    "    # Dot product between matrix and Q\n",
    "    W = np.dot(A,Q)\n",
    "    \n",
    "    # QR factorization on dot product\n",
    "    Q, R = np.linalg.qr(W)\n",
    "    \n",
    "    # Initializing list for storing all eigenvalues at current iteration\n",
    "    eigenvals = []\n",
    "    \n",
    "    # Loop for all columns of Q\n",
    "    for j in range(Q.shape[1]):\n",
    "        \n",
    "        # Obtaining all eigenvalues using Rayliegh quotient from eigenvectors, i.e. columns of Q\n",
    "        eigenvals.append(rayleigh(Q[:,j:j+1], A))\n",
    "        \n",
    "    # Appending eigenvalues corresponding to current iteration to hist\n",
    "    hist.append(eigenvals)\n",
    "    hist2.append(Q)\n",
    "\n",
    "# Converting hist from list into numpy array\n",
    "hist = np.array(hist)\n",
    "hist2 = np.array(hist2)\n",
    "\n",
    "# Top 5 eigenvalues of iterations (first the hist array columns are sorted as per last row, i.e. last iteration, then top 5 are sliced)\n",
    "hist_5 = hist[:, hist[-1, :].argsort()][:,-5:]\n",
    "print(\"\\nTop 5 Eigenvalues obtained from iteration method:\\n\", hist_5[-1])\n",
    "\n",
    "# Finding eigenvalues by standard library and sorting them\n",
    "eigenvals = np.array(sorted(np.linalg.eig(A)[0]))\n",
    "eigenvecs = np.linalg.eig(A)[1]\n",
    "\n",
    "# Top 5 eigenvalues are sliced\n",
    "eigenvals_5 = eigenvals[-5:]\n",
    "print(\"Top 5 Eigenvalues obtained from standard library:\\n\", eigenvals_5)\n",
    "\n",
    "# Creating convergence array to check the absolute differences between eigenvalues found by iteration method and standard library\n",
    "convergence = np.abs(hist_5 - eigenvals_5)\n",
    "\n",
    "# Visulizing convergence over iterations\n",
    "plt.plot(convergence)\n",
    "plt.legend([\"Eigenvalue 5\", \"Eigenvalue 4\", \"Eigenvalue 3\", \"Eigenvalue 2\", \"Eigenvalue 1\"])\n",
    "plt.xlabel(\"Iterations\")\n",
    "plt.ylabel(\"Absolute difference\")\n",
    "plt.title(\"Absolute difference between eigenvalues obtained using standard library and iteration method accross \"+str(iterations)+\" iterations\")\n",
    "plt.show()"
   ]
  },
  {
   "cell_type": "code",
   "execution_count": 30,
   "metadata": {},
   "outputs": [],
   "source": [
    "np.save(\"eigvecs3.npy\", np.linalg.eig(A)[1])"
   ]
  },
  {
   "cell_type": "code",
   "execution_count": 35,
   "metadata": {},
   "outputs": [],
   "source": [
    "np.save(\"hist3.npy\", hist2[:100])"
   ]
  }
 ],
 "metadata": {
  "kernelspec": {
   "display_name": "Python 3",
   "language": "python",
   "name": "python3"
  },
  "language_info": {
   "codemirror_mode": {
    "name": "ipython",
    "version": 3
   },
   "file_extension": ".py",
   "mimetype": "text/x-python",
   "name": "python",
   "nbconvert_exporter": "python",
   "pygments_lexer": "ipython3",
   "version": "3.7.1"
  }
 },
 "nbformat": 4,
 "nbformat_minor": 2
}
